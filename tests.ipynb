{
 "cells": [
  {
   "cell_type": "markdown",
   "id": "f9ed1f61-e7a1-4a20-9814-85faac361a58",
   "metadata": {},
   "source": [
    "# tests"
   ]
  },
  {
   "cell_type": "code",
   "execution_count": 1,
   "id": "b55163c7-0073-4e44-87b5-372a2b573a24",
   "metadata": {},
   "outputs": [],
   "source": [
    "import pandas as pd\n",
    "import tensorflow as tf\n",
    "import tensorflow_datasets as tfds\n",
    "import numpy as np\n",
    "import matplotlib.pyplot as plt\n",
    "from utils import *\n",
    "from tensorflow.python.keras import layers, models as tf_models, losses, optimizers, callbacks\n",
    "\n",
    "from utils import *\n",
    "from models.models import *"
   ]
  },
  {
   "cell_type": "code",
   "execution_count": 2,
   "id": "4c30fc06-0f72-4138-88bf-c1f465c46a1e",
   "metadata": {},
   "outputs": [],
   "source": [
    "ds_train, ds_val, ds_test = get_dataset_ds(dataset_name='mnist')"
   ]
  },
  {
   "cell_type": "code",
   "execution_count": 3,
   "id": "974c4e9d-17e9-48d4-b9f3-d461caf480cd",
   "metadata": {},
   "outputs": [],
   "source": [
    "batch_size = 32\n",
    "epochs = 50"
   ]
  },
  {
   "cell_type": "code",
   "execution_count": 4,
   "id": "4a68e239-c59a-435a-a3bb-53faca04e3f1",
   "metadata": {},
   "outputs": [],
   "source": [
    "AUTOTUNE = tf.data.AUTOTUNE\n",
    "train_dataset = ds_train.cache().shuffle(buffer_size=10000, reshuffle_each_iteration=True).batch(batch_size).prefetch(buffer_size=AUTOTUNE).map(lambda x,y: (tf.cast(x, tf.float32), y))\n",
    "valid_dataset = ds_val.cache().shuffle(buffer_size=10000, reshuffle_each_iteration=True).batch(batch_size).prefetch(buffer_size=AUTOTUNE).map(lambda x,y: (tf.cast(x, tf.float32), y))"
   ]
  },
  {
   "cell_type": "code",
   "execution_count": 5,
   "id": "dcc987e6-abd4-4ea6-8026-4dc3043a8b88",
   "metadata": {},
   "outputs": [],
   "source": [
    "model = SmallResNet()\n",
    "model.compile(optimizer=optimizers.adam_v2.Adam(learning_rate=0.001), loss=losses.sparse_categorical_crossentropy, metrics=['accuracy'])"
   ]
  },
  {
   "cell_type": "code",
   "execution_count": 6,
   "id": "a6d139f2-31f4-4470-94bc-8e7eaf1958bb",
   "metadata": {},
   "outputs": [
    {
     "name": "stdout",
     "output_type": "stream",
     "text": [
      "1500/1500 [==============================] - 61s 37ms/step - loss: 0.9173 - accuracy: 0.9491 - val_loss: 0.3111 - val_accuracy: 0.9546\n"
     ]
    },
    {
     "data": {
      "text/plain": [
       "<tensorflow.python.keras.callbacks.History at 0x2dc48918d30>"
      ]
     },
     "execution_count": 6,
     "metadata": {},
     "output_type": "execute_result"
    }
   ],
   "source": [
    "model.fit(train_dataset, epochs=1, validation_data=valid_dataset)"
   ]
  },
  {
   "cell_type": "code",
   "execution_count": 7,
   "id": "286fe975-006f-4a35-93d7-8cc133288656",
   "metadata": {},
   "outputs": [],
   "source": [
    "model = DenseNet(dropout = 0)\n",
    "model.compile(optimizer=optimizers.rmsprop_v2.RMSProp(learning_rate=0.001), loss=losses.sparse_categorical_crossentropy, metrics=['accuracy'])"
   ]
  },
  {
   "cell_type": "code",
   "execution_count": 8,
   "id": "b89208eb-3aa8-48ce-a601-27d7dcc74908",
   "metadata": {},
   "outputs": [
    {
     "name": "stdout",
     "output_type": "stream",
     "text": [
      "1500/1500 [==============================] - 13s 9ms/step - loss: 1.7568 - accuracy: 0.8385 - val_loss: 0.3471 - val_accuracy: 0.9146\n"
     ]
    },
    {
     "data": {
      "text/plain": [
       "<tensorflow.python.keras.callbacks.History at 0x2dc4a1d8130>"
      ]
     },
     "execution_count": 8,
     "metadata": {},
     "output_type": "execute_result"
    }
   ],
   "source": [
    "model.fit(train_dataset, epochs=1, validation_data=valid_dataset)"
   ]
  },
  {
   "cell_type": "code",
   "execution_count": 9,
   "id": "876a5bbf-7675-40d1-822f-6f8c5f1443dd",
   "metadata": {},
   "outputs": [],
   "source": [
    "model = SimpleCNN()\n",
    "model.compile(optimizer=optimizers.adam_v2.Adam(learning_rate=0.001), loss=losses.sparse_categorical_crossentropy, metrics=['accuracy'])"
   ]
  },
  {
   "cell_type": "code",
   "execution_count": 10,
   "id": "59329c84-d207-4303-a7f1-dfe6f6f57b85",
   "metadata": {},
   "outputs": [
    {
     "name": "stdout",
     "output_type": "stream",
     "text": [
      "1500/1500 [==============================] - 11s 7ms/step - loss: 4.4674 - accuracy: 0.9283 - val_loss: 0.1236 - val_accuracy: 0.9654\n"
     ]
    },
    {
     "data": {
      "text/plain": [
       "<tensorflow.python.keras.callbacks.History at 0x2dd7ed9cbe0>"
      ]
     },
     "execution_count": 10,
     "metadata": {},
     "output_type": "execute_result"
    }
   ],
   "source": [
    "model.fit(train_dataset, epochs=1, validation_data=valid_dataset)"
   ]
  }
 ],
 "metadata": {
  "kernelspec": {
   "display_name": "Python 3 (ipykernel)",
   "language": "python",
   "name": "python3"
  },
  "language_info": {
   "codemirror_mode": {
    "name": "ipython",
    "version": 3
   },
   "file_extension": ".py",
   "mimetype": "text/x-python",
   "name": "python",
   "nbconvert_exporter": "python",
   "pygments_lexer": "ipython3",
   "version": "3.9.6"
  }
 },
 "nbformat": 4,
 "nbformat_minor": 5
}
